{
  "nbformat": 4,
  "nbformat_minor": 0,
  "metadata": {
    "colab": {
      "provenance": [],
      "authorship_tag": "ABX9TyNEmMphp7qoT9Tq2hRE/fBt",
      "include_colab_link": true
    },
    "kernelspec": {
      "name": "python3",
      "display_name": "Python 3"
    },
    "language_info": {
      "name": "python"
    }
  },
  "cells": [
    {
      "cell_type": "markdown",
      "metadata": {
        "id": "view-in-github",
        "colab_type": "text"
      },
      "source": [
        "<a href=\"https://colab.research.google.com/github/UdaraChamidu/LangGraph/blob/main/AI_Agent_LangGraph.ipynb\" target=\"_parent\"><img src=\"https://colab.research.google.com/assets/colab-badge.svg\" alt=\"Open In Colab\"/></a>"
      ]
    },
    {
      "cell_type": "markdown",
      "source": [
        "# A simple AI Agent with Web search Tool, Weather Tool and Calculation Tool"
      ],
      "metadata": {
        "id": "XcpxoGSHV5y6"
      }
    },
    {
      "cell_type": "code",
      "execution_count": 61,
      "metadata": {
        "id": "0KZXn-4YpecE",
        "colab": {
          "base_uri": "https://localhost:8080/"
        },
        "outputId": "5fafa43f-4516-4f00-cf4f-2e5327e54504"
      },
      "outputs": [
        {
          "output_type": "stream",
          "name": "stdout",
          "text": [
            "\u001b[31mERROR: pip's dependency resolver does not currently take into account all the packages that are installed. This behaviour is the source of the following dependency conflicts.\n",
            "langchain-community 0.3.24 requires langchain<1.0.0,>=0.3.25, but you have langchain 0.3.24 which is incompatible.\u001b[0m\u001b[31m\n",
            "\u001b[0m"
          ]
        }
      ],
      "source": [
        "!pip install langchain==0.3.24 -q\n",
        "!pip install langchain-openai -q\n",
        "!pip install langgraph -q"
      ]
    },
    {
      "cell_type": "code",
      "source": [
        "# google search tool and weather tool\n",
        "\n",
        "!pip install langchain_community -q\n",
        "!pip install duckduckgo-search -qU\n",
        "!pip install pyowm -qU"
      ],
      "metadata": {
        "id": "C99FwD43MdOz"
      },
      "execution_count": 62,
      "outputs": []
    },
    {
      "cell_type": "code",
      "source": [
        "from typing import Annotated, Sequence, TypedDict\n",
        "from langchain_core.messages import BaseMessage, ToolMessage, SystemMessage\n",
        "from langchain_openai import ChatOpenAI\n",
        "from langchain_core.tools import tool\n",
        "from langgraph.graph.message import add_messages\n",
        "from langgraph.graph import StateGraph, START, END\n",
        "from langgraph.prebuilt import ToolNode\n",
        "from langchain_core.messages import HumanMessage"
      ],
      "metadata": {
        "id": "5rHbctOi6zpm"
      },
      "execution_count": 63,
      "outputs": []
    },
    {
      "cell_type": "code",
      "source": [
        "# for new tools. (calculation tools are created by me but others...)\n",
        "\n",
        "from langchain_community.tools import DuckDuckGoSearchRun\n",
        "from langchain_community.utilities import OpenWeatherMapAPIWrapper\n",
        "from langchain.agents import load_tools"
      ],
      "metadata": {
        "id": "2bV9MbQaNmsY"
      },
      "execution_count": 64,
      "outputs": []
    },
    {
      "cell_type": "code",
      "source": [
        "import os\n",
        "from google.colab import userdata\n",
        "\n",
        "os.environ['OPENAI_API_KEY'] = userdata.get('OPENAI_API_KEY')"
      ],
      "metadata": {
        "id": "NJ4tB-OfQkqs"
      },
      "execution_count": 65,
      "outputs": []
    },
    {
      "cell_type": "code",
      "source": [
        "# initialize the llm\n",
        "\n",
        "from langchain_openai import ChatOpenAI\n",
        "\n",
        "llm = ChatOpenAI(\n",
        "    model_name='gpt-3.5-turbo',\n",
        "    temperature=0\n",
        ")"
      ],
      "metadata": {
        "id": "LX5JLgDvPVCK"
      },
      "execution_count": 66,
      "outputs": []
    },
    {
      "cell_type": "code",
      "source": [
        "os.environ[\"OPENWEATHERMAP_API_KEY\"] = userdata.get('OPENWEATHER_API_KEY')"
      ],
      "metadata": {
        "id": "BdeNQx0COiOD"
      },
      "execution_count": 67,
      "outputs": []
    },
    {
      "cell_type": "code",
      "source": [
        "# initialize tools\n",
        "\n",
        "search_tool = DuckDuckGoSearchRun()\n",
        "\n",
        "weather = OpenWeatherMapAPIWrapper()\n",
        "weather_tool = load_tools([\"openweathermap-api\"], llm)[0]\n",
        "\n"
      ],
      "metadata": {
        "id": "BzJQhZLwOv_B"
      },
      "execution_count": 68,
      "outputs": []
    },
    {
      "cell_type": "code",
      "source": [
        "class AgentState(TypedDict):\n",
        "  messages: Annotated[Sequence[BaseMessage], add_messages]  # new msgs also adding..."
      ],
      "metadata": {
        "id": "G_Yv1lT06zl8"
      },
      "execution_count": 69,
      "outputs": []
    },
    {
      "cell_type": "code",
      "source": [
        "# tools\n",
        "\n",
        "@tool\n",
        "def addition(a: int, b: int):\n",
        "  \"\"\"This is the addition function that adds 2 numbers\"\"\"  # discription\n",
        "  # according to discription, model decides which tool to use.\n",
        "  return a+b\n",
        "\n",
        "@tool\n",
        "def subtraction(a: int, b: int):\n",
        "  \"\"\"This is the subtraction function that subtracts 2 numbers\"\"\"\n",
        "  return a-b\n",
        "\n",
        "@tool\n",
        "def multiplication(a: int, b: int):\n",
        "  \"\"\"This is the multiplication function that multiplies 2 numbers\"\"\"\n",
        "  return a*b\n",
        "\n",
        "@tool\n",
        "def division(a: int, b: int):\n",
        "  \"\"\"This is the division function that divides 2 numbers\"\"\"\n",
        "  return a/b\n"
      ],
      "metadata": {
        "id": "4OQ7ckst6zfA"
      },
      "execution_count": 70,
      "outputs": []
    },
    {
      "cell_type": "code",
      "source": [
        "tools = [addition, subtraction, multiplication, division, search_tool, weather_tool]"
      ],
      "metadata": {
        "id": "iyGAf6oJ6zcM"
      },
      "execution_count": 71,
      "outputs": []
    },
    {
      "cell_type": "code",
      "source": [
        "# llm enables to access tools\n",
        "\n",
        "llm_with_tools = llm.bind_tools(tools)"
      ],
      "metadata": {
        "id": "P6mOmvcwBGxc"
      },
      "execution_count": 72,
      "outputs": []
    },
    {
      "cell_type": "code",
      "source": [
        "def llm_call(state: AgentState) -> AgentState:\n",
        "  system_prompt = SystemMessage(content=\n",
        "    \"You are an intelligent AI assistant, please answer my query.\"\n",
        "  )\n",
        "  response = llm_with_tools.invoke([system_prompt] + state[\"messages\"])\n",
        "  # now, not only llm. now there are tools also\n",
        "\n",
        "  return {\"messages\":[response]}\n"
      ],
      "metadata": {
        "id": "SbppMgcoBXxn"
      },
      "execution_count": 73,
      "outputs": []
    },
    {
      "cell_type": "code",
      "source": [
        "# which tool is use ?\n",
        "\n",
        "def decision_node(state: AgentState):\n",
        "  message = state[\"messages\"]\n",
        "  last_message = message[-1]  # again use a tool or not\n",
        "  if not last_message.tool_calls:\n",
        "    return \"end\"\n",
        "  else:\n",
        "    return \"continue\""
      ],
      "metadata": {
        "id": "cHKrnFBXBGts"
      },
      "execution_count": 74,
      "outputs": []
    },
    {
      "cell_type": "code",
      "source": [
        "workflow = StateGraph(AgentState)\n",
        "\n",
        "workflow.add_node(\"agent\", llm_call)\n",
        "\n",
        "tool_node = ToolNode(tools=tools)\n",
        "workflow.add_node(\"tools\", tool_node)\n",
        "\n",
        "workflow.add_edge( START, \"agent\" )\n",
        "workflow.add_conditional_edges(\n",
        "  \"agent\",\n",
        "  decision_node,\n",
        "  {\n",
        "    \"continue\": \"tools\",  # if continue, use tools ...\n",
        "    \"end\": END,           # else end.\n",
        "  },\n",
        ")\n",
        "\n",
        "workflow.add_edge(\"tools\", \"agent\")\n",
        "\n",
        "app = workflow.compile()"
      ],
      "metadata": {
        "id": "cY5B5aBcBGrV"
      },
      "execution_count": 75,
      "outputs": []
    },
    {
      "cell_type": "code",
      "source": [
        "from IPython.display import Image, display\n",
        "display(Image(app.get_graph().draw_mermaid_png()))"
      ],
      "metadata": {
        "colab": {
          "base_uri": "https://localhost:8080/",
          "height": 290
        },
        "id": "LiHOmPU110C7",
        "outputId": "0caea3b0-cfe9-486a-85ab-127a48c1eba0"
      },
      "execution_count": 76,
      "outputs": [
        {
          "output_type": "display_data",
          "data": {
            "image/png": "[encoded data removed]",
            "text/plain": [
              "<IPython.core.display.Image object>"
            ]
          },
          "metadata": {}
        }
      ]
    },
    {
      "cell_type": "code",
      "source": [
        "# check step by steps of tool using\n",
        "\n",
        "def print_stream(stream):\n",
        "  for s in stream:\n",
        "    message = s[\"messages\"][-1]\n",
        "    if isinstance(message, tuple):\n",
        "      print(message)\n",
        "    else:\n",
        "      message.pretty_print()"
      ],
      "metadata": {
        "id": "RqehtNg9E_04"
      },
      "execution_count": 77,
      "outputs": []
    },
    {
      "cell_type": "code",
      "source": [
        "inputs = {\"messages\": [(\"user\", \"what is codeprolk?\")]}\n",
        "print_stream(app.stream(inputs, stream_mode=\"values\"))"
      ],
      "metadata": {
        "colab": {
          "base_uri": "https://localhost:8080/"
        },
        "id": "bfWbzFBKE_xR",
        "outputId": "0d219035-33f1-43cb-a6b7-1fa6a584659f"
      },
      "execution_count": 95,
      "outputs": [
        {
          "output_type": "stream",
          "name": "stdout",
          "text": [
            "================================\u001b[1m Human Message \u001b[0m=================================\n",
            "\n",
            "what is codeprolk?\n",
            "==================================\u001b[1m Ai Message \u001b[0m==================================\n",
            "Tool Calls:\n",
            "  duckduckgo_search (call_g5LaXPCMT30srg4Ut5JiWQvH)\n",
            " Call ID: call_g5LaXPCMT30srg4Ut5JiWQvH\n",
            "  Args:\n",
            "    query: codeprolk\n",
            "=================================\u001b[1m Tool Message \u001b[0m=================================\n",
            "Name: duckduckgo_search\n",
            "\n",
            "Who is an AI / ML Engineer, An AI engineer is a professional who designs, builds, and implements artificial intelligence (AI) models and applications. ඇයි Python ඉගෙනගන්න ඕනෙ?🔥Support us: https://www.patreon.com/codeprolk Want to learn more? 🚀 Machine Learning Tutorial - https://www ... CodePRO LK. Reels󰞋Jun 20, 2024󰞋󱟠 󰟝 At Microsoft Build 2025, the tech giant outlined a bold new vision for the future of computing: one where AI agents—digital entities capable of reasoning, remembering, and independently executing tasks—act as true partners for both individuals and organizations. The DevOps automation tools market is rapidly transforming as organizations strive to improve agility, efficiency, and compliance across their software delivery pipelines.\n",
            "==================================\u001b[1m Ai Message \u001b[0m==================================\n",
            "\n",
            "CodePRO LK is a professional who designs, builds, and implements artificial intelligence (AI) models and applications. They are skilled in Python programming and are involved in the development of AI agents that can reason, remember, and independently execute tasks. Additionally, CodePRO LK is associated with Microsoft Build 2025, where a new vision for the future of computing was outlined, focusing on AI agents as partners for individuals and organizations.\n"
          ]
        }
      ]
    }
  ]
}