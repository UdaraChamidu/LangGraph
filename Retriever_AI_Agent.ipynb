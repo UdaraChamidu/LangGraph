{
  "nbformat": 4,
  "nbformat_minor": 0,
  "metadata": {
    "colab": {
      "provenance": [],
      "include_colab_link": true
    },
    "kernelspec": {
      "name": "python3",
      "display_name": "Python 3"
    },
    "language_info": {
      "name": "python"
    }
  },
  "cells": [
    {
      "cell_type": "markdown",
      "metadata": {
        "id": "view-in-github",
        "colab_type": "text"
      },
      "source": [
        "<a href=\"https://colab.research.google.com/github/UdaraChamidu/LangGraph/blob/main/Retriever_AI_Agent.ipynb\" target=\"_parent\"><img src=\"https://colab.research.google.com/assets/colab-badge.svg\" alt=\"Open In Colab\"/></a>"
      ]
    },
    {
      "cell_type": "code",
      "source": [
        "!pip install langchain==0.3.24 -q\n",
        "!pip install langchain-openai -q\n",
        "!pip install langchain_chroma -q\n",
        "!pip install langchain_community -q\n",
        "!pip install langgraph -q\n",
        "!pip install pypdf -q"
      ],
      "metadata": {
        "colab": {
          "base_uri": "https://localhost:8080/"
        },
        "id": "kSkTESSF-WcH",
        "outputId": "a694082f-e276-4d64-d09f-59e258c077f4"
      },
      "execution_count": 32,
      "outputs": [
        {
          "output_type": "stream",
          "name": "stdout",
          "text": [
            "\u001b[31mERROR: pip's dependency resolver does not currently take into account all the packages that are installed. This behaviour is the source of the following dependency conflicts.\n",
            "langchain-community 0.3.24 requires langchain<1.0.0,>=0.3.25, but you have langchain 0.3.24 which is incompatible.\u001b[0m\u001b[31m\n",
            "\u001b[0m"
          ]
        }
      ]
    },
    {
      "cell_type": "code",
      "execution_count": 33,
      "metadata": {
        "id": "jXNtm8Rpw4x6"
      },
      "outputs": [],
      "source": [
        "import os\n",
        "from langgraph.graph import StateGraph, START, END\n",
        "from typing import TypedDict, Annotated, Sequence\n",
        "from langchain_core.messages import BaseMessage, SystemMessage, HumanMessage, ToolMessage\n",
        "from operator import add as add_messages\n",
        "from langchain_openai import ChatOpenAI\n",
        "from langchain_openai import OpenAIEmbeddings\n",
        "from langchain_community.document_loaders import PyPDFLoader\n",
        "from langchain.text_splitter import RecursiveCharacterTextSplitter\n",
        "from langchain_chroma import Chroma\n",
        "from langchain_core.tools import tool"
      ]
    },
    {
      "cell_type": "code",
      "source": [
        "import os\n",
        "from google.colab import userdata\n",
        "\n",
        "os.environ['OPENAI_API_KEY'] = userdata.get('OPENAI_API_KEY')"
      ],
      "metadata": {
        "id": "qhdBLMEoAMTr"
      },
      "execution_count": 34,
      "outputs": []
    },
    {
      "cell_type": "code",
      "source": [
        "llm = ChatOpenAI(\n",
        "    model=\"gpt-3.5-turbo\", temperature = 0)"
      ],
      "metadata": {
        "id": "S1uA6Nv8-1c-"
      },
      "execution_count": 35,
      "outputs": []
    },
    {
      "cell_type": "code",
      "source": [
        "embeddings = OpenAIEmbeddings(\n",
        "    model=\"text-embedding-3-small\",\n",
        ")"
      ],
      "metadata": {
        "id": "goovu4MA-2_s"
      },
      "execution_count": 36,
      "outputs": []
    },
    {
      "cell_type": "code",
      "source": [
        "pdf_loader = PyPDFLoader(\"/content/Eye Disease Classification Using DL.pdf\")"
      ],
      "metadata": {
        "id": "29BK5v0T-78F"
      },
      "execution_count": 37,
      "outputs": []
    },
    {
      "cell_type": "code",
      "source": [
        "pages = pdf_loader.load()"
      ],
      "metadata": {
        "id": "K0qnTfEo_JUs"
      },
      "execution_count": 38,
      "outputs": []
    },
    {
      "cell_type": "code",
      "source": [
        "text_splitter = RecursiveCharacterTextSplitter(\n",
        "    chunk_size=150,\n",
        "    chunk_overlap=25\n",
        ")"
      ],
      "metadata": {
        "id": "Pwx5HqXx_LCs"
      },
      "execution_count": 39,
      "outputs": []
    },
    {
      "cell_type": "code",
      "source": [
        "pages_split = text_splitter.split_documents(pages)"
      ],
      "metadata": {
        "id": "HrMbvCir_Na0"
      },
      "execution_count": 40,
      "outputs": []
    },
    {
      "cell_type": "code",
      "source": [
        "len(pages_split)"
      ],
      "metadata": {
        "colab": {
          "base_uri": "https://localhost:8080/"
        },
        "id": "kYslnyTUDxHQ",
        "outputId": "ee31f0e7-8b67-488e-fc3b-c16ecd6bb1aa"
      },
      "execution_count": 41,
      "outputs": [
        {
          "output_type": "execute_result",
          "data": {
            "text/plain": [
              "174"
            ]
          },
          "metadata": {},
          "execution_count": 41
        }
      ]
    },
    {
      "cell_type": "code",
      "source": [
        "vectorstore = Chroma.from_documents(\n",
        "    documents=pages_split,\n",
        "    embedding=embeddings,\n",
        "    persist_directory=\"./vectorstore\",\n",
        "    collection_name=\"data\"\n",
        ")"
      ],
      "metadata": {
        "id": "lKrFSZ9q_SU0"
      },
      "execution_count": 42,
      "outputs": []
    },
    {
      "cell_type": "code",
      "source": [
        "retriever = vectorstore.as_retriever(\n",
        "    search_type=\"similarity\",\n",
        "    search_kwargs={\"k\": 3}\n",
        ")"
      ],
      "metadata": {
        "id": "3INxIFGk_f07"
      },
      "execution_count": 43,
      "outputs": []
    },
    {
      "cell_type": "code",
      "source": [
        "@tool\n",
        "def retriever_tool(query: str) -> str:\n",
        "    \"\"\"\n",
        "    This tool searches and returns the information about codepro lk.\n",
        "    \"\"\"\n",
        "    docs = retriever.invoke(query)\n",
        "    if not docs:\n",
        "        return \"I found no relevant information\"\n",
        "    results = []\n",
        "    for i, doc in enumerate(docs):\n",
        "        results.append(f\"Document {i+1}:\\n{doc.page_content}\")\n",
        "\n",
        "    return \"\\n\\n\".join(results)"
      ],
      "metadata": {
        "id": "8HQVDPvb_kB7"
      },
      "execution_count": 44,
      "outputs": []
    },
    {
      "cell_type": "code",
      "source": [
        "tools = [retriever_tool]\n",
        "\n",
        "# bind tools to llm\n",
        "llm_with_tools = llm.bind_tools(tools)"
      ],
      "metadata": {
        "id": "wKXWIoJA_uK7"
      },
      "execution_count": 45,
      "outputs": []
    },
    {
      "cell_type": "code",
      "source": [
        "class AgentState(TypedDict):\n",
        "    messages: Annotated[Sequence[BaseMessage], add_messages]"
      ],
      "metadata": {
        "id": "N0k6yQJN_uuj"
      },
      "execution_count": 46,
      "outputs": []
    },
    {
      "cell_type": "code",
      "source": [
        "def should_continue(state: AgentState):\n",
        "    \"\"\"Check if the last message contains tool calls.\"\"\"\n",
        "    result = state['messages'][-1]\n",
        "    return hasattr(result, 'tool_calls') and len(result.tool_calls) > 0"
      ],
      "metadata": {
        "id": "yAzEjIol_yCb"
      },
      "execution_count": 47,
      "outputs": []
    },
    {
      "cell_type": "code",
      "source": [
        "system_prompt = \"\"\"\n",
        "You are an intelligent AI assistant who answers questions about deep learning based on the PDF document loaded into your knowledge base.\n",
        "Use the retriever tool available to answer questions about the given data. You can make multiple calls if needed.\n",
        "If you need to look up some information before asking a follow up question, you are allowed to do that!\n",
        "Please always cite the specific parts of the documents you use in your answers.\n",
        "\"\"\""
      ],
      "metadata": {
        "id": "H83ZRqel_5yz"
      },
      "execution_count": 48,
      "outputs": []
    },
    {
      "cell_type": "code",
      "source": [
        "tools_dict = {our_tool.name: our_tool for our_tool in tools}"
      ],
      "metadata": {
        "id": "dxBENZPe_6UT"
      },
      "execution_count": 49,
      "outputs": []
    },
    {
      "cell_type": "code",
      "source": [
        "# LLM Agent\n",
        "\n",
        "def call_llm(state: AgentState) -> AgentState:\n",
        "    \"\"\"Function to call the LLM with the current state.\"\"\"\n",
        "    messages = list(state['messages'])\n",
        "    messages = [SystemMessage(content=system_prompt)] + messages\n",
        "    message = llm_with_tools.invoke(messages)\n",
        "    print(message)\n",
        "    return {'messages': [message]}"
      ],
      "metadata": {
        "id": "W4tjzaL9_83a"
      },
      "execution_count": 50,
      "outputs": []
    },
    {
      "cell_type": "code",
      "source": [
        "# Retriever Agent\n",
        "\n",
        "def take_action(state: AgentState) -> AgentState:\n",
        "    \"\"\"Execute tool calls from the LLM's response.\"\"\"\n",
        "\n",
        "    tool_calls = state['messages'][-1].tool_calls\n",
        "    results = []\n",
        "    for t in tool_calls:\n",
        "        print(f\"Calling Tool: {t['name']} with query: {t['args'].get('query', 'No query provided')}\")\n",
        "\n",
        "        if not t['name'] in tools_dict: # Checks if a valid tool is present\n",
        "            print(f\"\\nTool: {t['name']} does not exist.\")\n",
        "            result = \"Incorrect Tool Name, Please Retry and Select tool from List of Available tools.\"\n",
        "\n",
        "        else:\n",
        "            result = tools_dict[t['name']].invoke(t['args'].get('query', ''))\n",
        "            print(f\"Result length: {len(str(result))}\")\n",
        "\n",
        "\n",
        "        # Appends the Tool Message\n",
        "        results.append(ToolMessage(tool_call_id=t['id'], name=t['name'], content=str(result)))\n",
        "\n",
        "    print(\"Tools Execution Complete. Back to the model!\")\n",
        "    return {'messages': results}"
      ],
      "metadata": {
        "id": "BeDO9TmJ__6L"
      },
      "execution_count": 51,
      "outputs": []
    },
    {
      "cell_type": "code",
      "source": [
        "workflow = StateGraph(AgentState)\n",
        "\n",
        "workflow.add_node(\"llm\", call_llm)\n",
        "workflow.add_node(\"retriever_agent\", take_action)\n",
        "\n",
        "workflow.add_edge(START, \"llm\")\n",
        "workflow.add_conditional_edges(\n",
        "    \"llm\",\n",
        "    should_continue,\n",
        "    {True: \"retriever_agent\", False: END}\n",
        ")\n",
        "workflow.add_edge(\"retriever_agent\", \"llm\")\n",
        "\n",
        "app = workflow.compile()"
      ],
      "metadata": {
        "id": "_994Sr0VADqK"
      },
      "execution_count": 52,
      "outputs": []
    },
    {
      "cell_type": "code",
      "source": [
        "from IPython.display import Image, display\n",
        "display(Image(app.get_graph().draw_mermaid_png()))"
      ],
      "metadata": {
        "colab": {
          "base_uri": "https://localhost:8080/",
          "height": 290
        },
        "id": "lXCjuyfNARud",
        "outputId": "e830b1ed-9818-4275-a9e4-0fc668e579d3"
      },
      "execution_count": 53,
      "outputs": [
        {
          "output_type": "display_data",
          "data": {
            "image/png": "[encoded data removed]",
            "text/plain": [
              "<IPython.core.display.Image object>"
            ]
          },
          "metadata": {}
        }
      ]
    },
    {
      "cell_type": "code",
      "source": [
        "result = app.invoke({\"messages\": [HumanMessage(content=\"what is deep learning\")]})"
      ],
      "metadata": {
        "id": "BAoOBYWdAVnV",
        "colab": {
          "base_uri": "https://localhost:8080/"
        },
        "outputId": "f8661e94-8cab-43e4-ad86-81cb12bcf8c1"
      },
      "execution_count": 54,
      "outputs": [
        {
          "output_type": "stream",
          "name": "stdout",
          "text": [
            "content='' additional_kwargs={'tool_calls': [{'id': 'call_uUb3cwEJQNun6A7nAS9fYDsU', 'function': {'arguments': '{\"query\":\"deep learning\"}', 'name': 'retriever_tool'}, 'type': 'function'}], 'refusal': None} response_metadata={'token_usage': {'completion_tokens': 17, 'prompt_tokens': 138, 'total_tokens': 155, 'completion_tokens_details': {'accepted_prediction_tokens': 0, 'audio_tokens': 0, 'reasoning_tokens': 0, 'rejected_prediction_tokens': 0}, 'prompt_tokens_details': {'audio_tokens': 0, 'cached_tokens': 0}}, 'model_name': 'gpt-3.5-turbo-0125', 'system_fingerprint': None, 'id': 'chatcmpl-BfNCRWCEczJpmO8ROsKVUh1BQlcl6', 'service_tier': 'default', 'finish_reason': 'tool_calls', 'logprobs': None} id='run--67edb630-3181-4d95-a417-c9bc84805d68-0' tool_calls=[{'name': 'retriever_tool', 'args': {'query': 'deep learning'}, 'id': 'call_uUb3cwEJQNun6A7nAS9fYDsU', 'type': 'tool_call'}] usage_metadata={'input_tokens': 138, 'output_tokens': 17, 'total_tokens': 155, 'input_token_details': {'audio': 0, 'cache_read': 0}, 'output_token_details': {'audio': 0, 'reasoning': 0}}\n",
            "Calling Tool: retriever_tool with query: deep learning\n",
            "Result length: 297\n",
            "Tools Execution Complete. Back to the model!\n",
            "content=\"Deep learning is a type of machine learning that involves algorithms inspired by the structure and function of the brain's neural networks. It is particularly effective for processing data that is unstructured or unlabeled. In the context of image processing, deep learning can be used for tasks like detecting and diagnosing diseases.\" additional_kwargs={'refusal': None} response_metadata={'token_usage': {'completion_tokens': 61, 'prompt_tokens': 226, 'total_tokens': 287, 'completion_tokens_details': {'accepted_prediction_tokens': 0, 'audio_tokens': 0, 'reasoning_tokens': 0, 'rejected_prediction_tokens': 0}, 'prompt_tokens_details': {'audio_tokens': 0, 'cached_tokens': 0}}, 'model_name': 'gpt-3.5-turbo-0125', 'system_fingerprint': None, 'id': 'chatcmpl-BfNCSmGxenSaeDk8u4o5y0U2Z2osX', 'service_tier': 'default', 'finish_reason': 'stop', 'logprobs': None} id='run--b0d2d903-cc1b-4ed3-995b-f18e3855d431-0' usage_metadata={'input_tokens': 226, 'output_tokens': 61, 'total_tokens': 287, 'input_token_details': {'audio': 0, 'cache_read': 0}, 'output_token_details': {'audio': 0, 'reasoning': 0}}\n"
          ]
        }
      ]
    },
    {
      "cell_type": "code",
      "source": [
        "result['messages'][-1].content"
      ],
      "metadata": {
        "colab": {
          "base_uri": "https://localhost:8080/",
          "height": 105
        },
        "id": "X3Nk4fRLW78H",
        "outputId": "50c7b201-e749-4402-f6f2-5c069449c9d1"
      },
      "execution_count": 55,
      "outputs": [
        {
          "output_type": "execute_result",
          "data": {
            "text/plain": [
              "\"Deep learning is a type of machine learning that involves algorithms inspired by the structure and function of the brain's neural networks. It is particularly effective for processing data that is unstructured or unlabeled. In the context of image processing, deep learning can be used for tasks like detecting and diagnosing diseases.\""
            ],
            "application/vnd.google.colaboratory.intrinsic+json": {
              "type": "string"
            }
          },
          "metadata": {},
          "execution_count": 55
        }
      ]
    },
    {
      "cell_type": "code",
      "source": [
        "result = app.invoke({\"messages\": [HumanMessage(content=\"what is an evaluation matric ?\")]})"
      ],
      "metadata": {
        "id": "JgdsRwYJXTLh",
        "colab": {
          "base_uri": "https://localhost:8080/"
        },
        "outputId": "c18ca44e-8b14-4f56-9f5f-1436c7675978"
      },
      "execution_count": 57,
      "outputs": [
        {
          "output_type": "stream",
          "name": "stdout",
          "text": [
            "content='' additional_kwargs={'tool_calls': [{'id': 'call_pUI4U1PNy0D9V7A8xwXcK9Ag', 'function': {'arguments': '{\"query\":\"evaluation metric\"}', 'name': 'retriever_tool'}, 'type': 'function'}], 'refusal': None} response_metadata={'token_usage': {'completion_tokens': 17, 'prompt_tokens': 141, 'total_tokens': 158, 'completion_tokens_details': {'accepted_prediction_tokens': 0, 'audio_tokens': 0, 'reasoning_tokens': 0, 'rejected_prediction_tokens': 0}, 'prompt_tokens_details': {'audio_tokens': 0, 'cached_tokens': 0}}, 'model_name': 'gpt-3.5-turbo-0125', 'system_fingerprint': None, 'id': 'chatcmpl-BfNDTI2y9aYtQRG0XosZkUWKwJQEy', 'service_tier': 'default', 'finish_reason': 'tool_calls', 'logprobs': None} id='run--6ecd5987-69d3-4523-8656-03b5e23d84ff-0' tool_calls=[{'name': 'retriever_tool', 'args': {'query': 'evaluation metric'}, 'id': 'call_pUI4U1PNy0D9V7A8xwXcK9Ag', 'type': 'tool_call'}] usage_metadata={'input_tokens': 141, 'output_tokens': 17, 'total_tokens': 158, 'input_token_details': {'audio': 0, 'cache_read': 0}, 'output_token_details': {'audio': 0, 'reasoning': 0}}\n",
            "Calling Tool: retriever_tool with query: evaluation metric\n",
            "Result length: 390\n",
            "Tools Execution Complete. Back to the model!\n",
            "content=\"An evaluation metric is a measure used to assess the performance of a model or system in machine learning tasks. Commonly used evaluation metrics include Precision, Recall, and F1-score. These metrics help in evaluating the effectiveness and accuracy of a model's predictions.\" additional_kwargs={'refusal': None} response_metadata={'token_usage': {'completion_tokens': 52, 'prompt_tokens': 257, 'total_tokens': 309, 'completion_tokens_details': {'accepted_prediction_tokens': 0, 'audio_tokens': 0, 'reasoning_tokens': 0, 'rejected_prediction_tokens': 0}, 'prompt_tokens_details': {'audio_tokens': 0, 'cached_tokens': 0}}, 'model_name': 'gpt-3.5-turbo-0125', 'system_fingerprint': None, 'id': 'chatcmpl-BfNDUrKjUHU46smKU75F4QGysEaPS', 'service_tier': 'default', 'finish_reason': 'stop', 'logprobs': None} id='run--85e2c812-d56e-479f-a00f-4cdc6e0dd607-0' usage_metadata={'input_tokens': 257, 'output_tokens': 52, 'total_tokens': 309, 'input_token_details': {'audio': 0, 'cache_read': 0}, 'output_token_details': {'audio': 0, 'reasoning': 0}}\n"
          ]
        }
      ]
    },
    {
      "cell_type": "code",
      "source": [],
      "metadata": {
        "id": "KocZAyp9d8jx"
      },
      "execution_count": null,
      "outputs": []
    }
  ]
}