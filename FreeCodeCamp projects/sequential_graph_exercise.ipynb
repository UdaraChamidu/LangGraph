{
 "cells": [
  {
   "cell_type": "code",
   "execution_count": 4,
   "id": "2b4bf6c8",
   "metadata": {},
   "outputs": [],
   "source": [
    "from typing import List, TypedDict\n",
    "from langgraph.graph import StateGraph "
   ]
  },
  {
   "cell_type": "code",
   "execution_count": 7,
   "id": "d5f41902",
   "metadata": {},
   "outputs": [],
   "source": [
    "class AgentState(TypedDict):\n",
    "    name:str\n",
    "    age:str\n",
    "    skills: List[str]\n",
    "    final: str\n",
    "        "
   ]
  },
  {
   "cell_type": "code",
   "execution_count": 9,
   "id": "c021cf22",
   "metadata": {},
   "outputs": [],
   "source": [
    "def f_node(state:AgentState) -> AgentState:\n",
    "    \"\"\"\"This is the node 1. this returns the name\"\"\"\n",
    "    \n",
    "    state['final'] = f\"Hello {state['name']} ! Welcom to the langraph course.\"\n",
    "    return state"
   ]
  },
  {
   "cell_type": "code",
   "execution_count": 11,
   "id": "3862b790",
   "metadata": {},
   "outputs": [],
   "source": [
    "def s_node(state:AgentState) -> AgentState:\n",
    "    \"\"\"\"This is the node 2. this returns the age\"\"\"\n",
    "    \n",
    "    state['final'] = state['final'] + f\"Your age is  {state['age']} years old \"\n",
    "    return state"
   ]
  },
  {
   "cell_type": "code",
   "execution_count": 18,
   "id": "ebd7a577",
   "metadata": {},
   "outputs": [],
   "source": [
    "def t_node(state:AgentState) -> AgentState:\n",
    "    \"\"\"This is the node 3. this returns the age\"\"\"\n",
    "    \n",
    "    state['final'] = state['final'] + f\"Your skills are  {', '.join(state['skills'])}\"\n",
    "    return state"
   ]
  },
  {
   "cell_type": "code",
   "execution_count": null,
   "id": "c703cad8",
   "metadata": {},
   "outputs": [],
   "source": [
    "graph = StateGraph(AgentState)\n",
    "\n",
    "graph.add_node(\"tell_name\", f_node)\n",
    "graph.add_node(\"tell_age\", s_node)\n",
    "graph.add_node(\"tell_skills\", t_node)\n",
    "\n",
    "graph.set_entry_point(\"tell_name\")\n",
    "graph.add_edge(\"tell_name\", \"tell_age\")\n",
    "graph.add_edge(\"tell_age\", \"tell_skills\")\n",
    "graph.set_finish_point(\"tell_skills\")\n",
    "\n",
    "app = graph.compile()"
   ]
  },
  {
   "cell_type": "code",
   "execution_count": 22,
   "id": "7c37c973",
   "metadata": {},
   "outputs": [],
   "source": [
    "answer = app.invoke({\"name\":\"udara\", \"age\":25,\"skills\":[\"programming\",\"AI\",\"ML\",\"Deep learning\"]})"
   ]
  },
  {
   "cell_type": "code",
   "execution_count": 23,
   "id": "171bb949",
   "metadata": {},
   "outputs": [
    {
     "data": {
      "text/plain": [
       "'Hello udara ! Welcom to the langraph course.Your age is  25 years old Your skills are  programming, AI, ML, Deep learning'"
      ]
     },
     "execution_count": 23,
     "metadata": {},
     "output_type": "execute_result"
    }
   ],
   "source": [
    "answer['final']"
   ]
  },
  {
   "cell_type": "code",
   "execution_count": null,
   "id": "a15f80fc",
   "metadata": {},
   "outputs": [],
   "source": []
  }
 ],
 "metadata": {
  "kernelspec": {
   "display_name": ".venv",
   "language": "python",
   "name": "python3"
  },
  "language_info": {
   "codemirror_mode": {
    "name": "ipython",
    "version": 3
   },
   "file_extension": ".py",
   "mimetype": "text/x-python",
   "name": "python",
   "nbconvert_exporter": "python",
   "pygments_lexer": "ipython3",
   "version": "3.11.0"
  }
 },
 "nbformat": 4,
 "nbformat_minor": 5
}
