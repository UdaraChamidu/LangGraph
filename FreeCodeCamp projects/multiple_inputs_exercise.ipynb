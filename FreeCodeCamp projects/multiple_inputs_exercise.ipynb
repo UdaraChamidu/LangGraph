{
 "cells": [
  {
   "cell_type": "code",
   "execution_count": 25,
   "id": "55f1dfcd",
   "metadata": {},
   "outputs": [],
   "source": [
    "from typing import List, TypedDict\n",
    "from langgraph.graph import StateGraph\n",
    "import math"
   ]
  },
  {
   "cell_type": "code",
   "execution_count": 12,
   "id": "652705dd",
   "metadata": {},
   "outputs": [],
   "source": [
    "class AgentState(TypedDict):\n",
    "    values: List[int]\n",
    "    name: str\n",
    "    result: str\n",
    "    operation: str"
   ]
  },
  {
   "cell_type": "code",
   "execution_count": 31,
   "id": "6c346803",
   "metadata": {},
   "outputs": [],
   "source": [
    "def answering(state: AgentState) -> AgentState:\n",
    "    \"\"\"\"This is a simple function that will multiply or add the elements in a list\"\"\"\n",
    "    \n",
    "    if state['operation']==\"+\":\n",
    "        state['result'] = f\"Hi {state['name']} ! Your answer is {sum(state['values'])}\"\n",
    "    elif state['operation']==\"*\":\n",
    "        state['result'] = f\"Hi {state['name']} ! Your answer is {math.prod(state['values'])}\"\n",
    "    return state"
   ]
  },
  {
   "cell_type": "code",
   "execution_count": null,
   "id": "75f6cc66",
   "metadata": {},
   "outputs": [],
   "source": [
    "graph = StateGraph(AgentState)\n",
    "\n",
    "graph.add_node(\"processor\", answering)\n",
    "graph.set_entry_point(\"processor\")\n",
    "graph.set_finish_point(\"processor\")\n",
    "\n",
    "app = graph.compile()"
   ]
  },
  {
   "cell_type": "code",
   "execution_count": 34,
   "id": "9420af47",
   "metadata": {},
   "outputs": [],
   "source": [
    "answer = app.invoke({\"values\" : [1,2,3,4,5], \"name\" : \"Jack sprrow\", \"operation\":\"*\"})"
   ]
  },
  {
   "cell_type": "code",
   "execution_count": 35,
   "id": "847eb331",
   "metadata": {},
   "outputs": [
    {
     "data": {
      "text/plain": [
       "'Hi Jack sprrow ! Your answer is 120'"
      ]
     },
     "execution_count": 35,
     "metadata": {},
     "output_type": "execute_result"
    }
   ],
   "source": [
    "answer['result']"
   ]
  },
  {
   "cell_type": "code",
   "execution_count": 36,
   "id": "24f22fa8",
   "metadata": {},
   "outputs": [],
   "source": [
    "answer = app.invoke({\"values\" : [1,2,3,4,5], \"name\" : \"Jack sprrow\", \"operation\":\"+\"})"
   ]
  },
  {
   "cell_type": "code",
   "execution_count": 37,
   "id": "4813c3e9",
   "metadata": {},
   "outputs": [
    {
     "data": {
      "text/plain": [
       "'Hi Jack sprrow ! Your answer is 15'"
      ]
     },
     "execution_count": 37,
     "metadata": {},
     "output_type": "execute_result"
    }
   ],
   "source": [
    "answer['result']"
   ]
  }
 ],
 "metadata": {
  "kernelspec": {
   "display_name": ".venv",
   "language": "python",
   "name": "python3"
  },
  "language_info": {
   "codemirror_mode": {
    "name": "ipython",
    "version": 3
   },
   "file_extension": ".py",
   "mimetype": "text/x-python",
   "name": "python",
   "nbconvert_exporter": "python",
   "pygments_lexer": "ipython3",
   "version": "3.11.0"
  }
 },
 "nbformat": 4,
 "nbformat_minor": 5
}
