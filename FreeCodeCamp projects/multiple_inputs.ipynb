{
 "cells": [
  {
   "cell_type": "code",
   "execution_count": 3,
   "id": "1a8ae3c8",
   "metadata": {},
   "outputs": [],
   "source": [
    "from typing import List, TypedDict\n",
    "from langgraph.graph import StateGraph"
   ]
  },
  {
   "cell_type": "code",
   "execution_count": 4,
   "id": "95ff8447",
   "metadata": {},
   "outputs": [],
   "source": [
    "class AgentState(TypedDict):\n",
    "    values: List[int]\n",
    "    name: str\n",
    "    result: str"
   ]
  },
  {
   "cell_type": "code",
   "execution_count": 6,
   "id": "74437e71",
   "metadata": {},
   "outputs": [],
   "source": [
    "def process_values(state: AgentState) -> AgentState:\n",
    "    \"\"\"this function handles multiple  inputs\"\"\"\n",
    "    \n",
    "    state['result'] = f\"Hi there {state['name']} ! Yor sum is {sum(state['values'])}\"\n",
    "    return state"
   ]
  },
  {
   "cell_type": "code",
   "execution_count": 7,
   "id": "91e97f0e",
   "metadata": {},
   "outputs": [],
   "source": [
    "graph = StateGraph(AgentState)\n",
    "\n",
    "graph.add_node(\"processor\", process_values)\n",
    "graph.set_entry_point(\"processor\")\n",
    "graph.set_finish_point('processor')\n",
    "\n",
    "app = graph.compile()"
   ]
  },
  {
   "cell_type": "code",
   "execution_count": 11,
   "id": "6e2c22e4",
   "metadata": {},
   "outputs": [],
   "source": [
    "answer = app.invoke({\"values\":[1,2,3,4,5], \"name\":\"udara\"})\n",
    "# do not pass result\n",
    "# langgraph take it as null"
   ]
  },
  {
   "cell_type": "code",
   "execution_count": 14,
   "id": "ccee27f2",
   "metadata": {},
   "outputs": [
    {
     "data": {
      "text/plain": [
       "'Hi there udara ! Yor sum is 15'"
      ]
     },
     "execution_count": 14,
     "metadata": {},
     "output_type": "execute_result"
    }
   ],
   "source": [
    "answer['result']"
   ]
  }
 ],
 "metadata": {
  "kernelspec": {
   "display_name": ".venv",
   "language": "python",
   "name": "python3"
  },
  "language_info": {
   "codemirror_mode": {
    "name": "ipython",
    "version": 3
   },
   "file_extension": ".py",
   "mimetype": "text/x-python",
   "name": "python",
   "nbconvert_exporter": "python",
   "pygments_lexer": "ipython3",
   "version": "3.11.0"
  }
 },
 "nbformat": 4,
 "nbformat_minor": 5
}
