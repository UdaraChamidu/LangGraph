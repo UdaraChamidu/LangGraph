{
 "cells": [
  {
   "cell_type": "code",
   "execution_count": 8,
   "id": "3bf730ca",
   "metadata": {},
   "outputs": [
    {
     "ename": "ModuleNotFoundError",
     "evalue": "No module named 'langgraph'",
     "output_type": "error",
     "traceback": [
      "\u001b[31m---------------------------------------------------------------------------\u001b[39m",
      "\u001b[31mModuleNotFoundError\u001b[39m                       Traceback (most recent call last)",
      "\u001b[36mCell\u001b[39m\u001b[36m \u001b[39m\u001b[32mIn[8]\u001b[39m\u001b[32m, line 2\u001b[39m\n\u001b[32m      1\u001b[39m \u001b[38;5;28;01mfrom\u001b[39;00m\u001b[38;5;250m \u001b[39m\u001b[34;01mtyping\u001b[39;00m\u001b[38;5;250m \u001b[39m\u001b[38;5;28;01mimport\u001b[39;00m TypedDict\n\u001b[32m----> \u001b[39m\u001b[32m2\u001b[39m \u001b[38;5;28;01mfrom\u001b[39;00m\u001b[38;5;250m \u001b[39m\u001b[34;01mlanggraph\u001b[39;00m\u001b[34;01m.\u001b[39;00m\u001b[34;01mgraph\u001b[39;00m\u001b[38;5;250m \u001b[39m\u001b[38;5;28;01mimport\u001b[39;00m StateGraph, START, END\n",
      "\u001b[31mModuleNotFoundError\u001b[39m: No module named 'langgraph'"
     ]
    }
   ],
   "source": [
    "from typing import TypedDict\n",
    "from langgraph.graph import StateGraph, START, END"
   ]
  },
  {
   "cell_type": "code",
   "execution_count": null,
   "id": "33b816c9",
   "metadata": {},
   "outputs": [
    {
     "ename": "NameError",
     "evalue": "name 'TypedDict' is not defined",
     "output_type": "error",
     "traceback": [
      "\u001b[31m---------------------------------------------------------------------------\u001b[39m",
      "\u001b[31mNameError\u001b[39m                                 Traceback (most recent call last)",
      "\u001b[36mCell\u001b[39m\u001b[36m \u001b[39m\u001b[32mIn[1]\u001b[39m\u001b[32m, line 1\u001b[39m\n\u001b[32m----> \u001b[39m\u001b[32m1\u001b[39m \u001b[38;5;28;01mclass\u001b[39;00m\u001b[38;5;250m \u001b[39m\u001b[34;01mAgentState\u001b[39;00m(\u001b[43mTypedDict\u001b[49m):\n\u001b[32m      2\u001b[39m     number1=\u001b[38;5;28mint\u001b[39m\n\u001b[32m      3\u001b[39m     number2=\u001b[38;5;28mint\u001b[39m\n",
      "\u001b[31mNameError\u001b[39m: name 'TypedDict' is not defined"
     ]
    }
   ],
   "source": [
    "class AgentState(TypedDict):\n",
    "    number1=int\n",
    "    number2=int\n",
    "    operation1=str\n",
    "    number3=int\n",
    "    number4=int\n",
    "    operation2=str\n",
    "    final1=int\n",
    "    final2=int"
   ]
  },
  {
   "cell_type": "code",
   "execution_count": null,
   "id": "695141ed",
   "metadata": {},
   "outputs": [],
   "source": [
    "def adder1(state:AgentState) -> AgentState:\n",
    "    \"\"\"Ä simple node do  a simple operation\"\"\"\n",
    "    state['answer']= state['number1'] + state['number2']\n",
    "    return state\n",
    "\n",
    "def subtractor1(state:AgentState) -> AgentState:\n",
    "    \"\"\"Ä simple node do  a simple operation\"\"\"\n",
    "    state['answer']= state['number1'] - state['number2']\n",
    "    return state\n",
    "\n",
    "# for router\n",
    "def decide_next_node1(state:AgentState)-> AgentState:\n",
    "    \"\"\"This node desides the next node\"\"\"\n",
    "    \n",
    "    if state['operation']==\"+\":\n",
    "        return \"addition operation\"\n",
    "    elif state['operation']==\"-\":\n",
    "        return \"subtraction operation\"\n",
    "\n",
    "def adder2(state:AgentState) -> AgentState:\n",
    "    \"\"\"Ä simple node do  a simple operation\"\"\"\n",
    "    state['answer']= state['number1'] + state['number2']\n",
    "    return state\n",
    "\n",
    "def subtractor2(state:AgentState) -> AgentState:\n",
    "    \"\"\"Ä simple node do  a simple operation\"\"\"\n",
    "    state['answer']= state['number1'] - state['number2']\n",
    "    return state\n",
    "\n",
    "# for router\n",
    "def decide_next_node2(state:AgentState)-> AgentState:\n",
    "    \"\"\"This node desides the next node\"\"\"\n",
    "    \n",
    "    if state['operation']==\"+\":\n",
    "        return \"addition operation\"\n",
    "    elif state['operation']==\"-\":\n",
    "        return \"subtraction operation\""
   ]
  },
  {
   "cell_type": "code",
   "execution_count": null,
   "id": "034de508",
   "metadata": {},
   "outputs": [],
   "source": [
    "graph = StateGraph(AgentState)\n",
    "\n",
    "graph.add_node(\"adder1\", adder1)\n",
    "graph.add_node(\"subtractor1\", subtractor1)\n",
    "graph.add_node(\"router1\", lambda state:state) # input state will be the output state\n",
    "# state is not changing in the decide_next_node() function\n",
    "# thats why we use a pass through function -> lambda state:state\n",
    "graph.add_edge(START, \"router1\")\n",
    "\n",
    "graph.add_conditional_edge1(\n",
    "    \"router\", decide_next_node1,   # starting node details\n",
    "    {\n",
    "        # Edge name : Node\n",
    "        \"addition Opereration 1\":\"adder1\",\n",
    "        \"subtraction operation 1\": \"subtractor1\"\n",
    "    } \n",
    ")\n",
    "graph.add_edge(\"adder1\", \"router2\")\n",
    "graph.add_node(\"subtractor1\", \"router2\")\n",
    "\n",
    "########################################################################\n",
    "\n",
    "graph.add_node(\"adder2\", adder2)\n",
    "graph.add_node(\"subtractor2\", subtractor2)\n",
    "graph.add_node(\"router2\", lambda state:state) # input state will be the output state\n",
    "# state is not changing in the decide_next_node() function\n",
    "# thats why we use a pass through function -> lambda state:state\n",
    "graph.add_edge(\"router1\", \"router2\")\n",
    "\n",
    "graph.add_conditional_edge2(\n",
    "    \"router2\", decide_next_node2,   # starting node details\n",
    "    {\n",
    "        # Edge name : Node\n",
    "        \"addition Opereration 2\":\"adder2\",\n",
    "        \"subtraction operation 2\": \"subtractor2\"\n",
    "    } \n",
    ")\n",
    "graph.add_edge(\"adder2\", END)\n",
    "graph.add_node(\"subtractor2\", END)\n",
    "\n",
    "app = graph.compile() "
   ]
  },
  {
   "cell_type": "code",
   "execution_count": null,
   "id": "ea7870e7",
   "metadata": {},
   "outputs": [],
   "source": [
    "result1 = AgentState(number1=10, number2=2,operation1=\"+\", number3=5, number4=7, operation2=\"+\")\n",
    "print(app.invoke(result1)) "
   ]
  },
  {
   "cell_type": "code",
   "execution_count": null,
   "id": "c3bfd52c",
   "metadata": {},
   "outputs": [],
   "source": [
    "# another way (previous way)\n",
    "\n",
    "result = app.invoke({\"number1\"==5, \"number2\"==3, \"operation1\"==\"-\", \"number4\"==5, \"number5\"==3, \"operation2\"==\"-\"})\n",
    "result['answer']"
   ]
  }
 ],
 "metadata": {
  "kernelspec": {
   "display_name": "Python 3",
   "language": "python",
   "name": "python3"
  },
  "language_info": {
   "codemirror_mode": {
    "name": "ipython",
    "version": 3
   },
   "file_extension": ".py",
   "mimetype": "text/x-python",
   "name": "python",
   "nbconvert_exporter": "python",
   "pygments_lexer": "ipython3",
   "version": "3.11.0"
  }
 },
 "nbformat": 4,
 "nbformat_minor": 5
}
