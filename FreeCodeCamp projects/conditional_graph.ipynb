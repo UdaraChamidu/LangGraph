{
 "cells": [
  {
   "cell_type": "code",
   "execution_count": 5,
   "id": "601bba58",
   "metadata": {},
   "outputs": [
    {
     "ename": "ModuleNotFoundError",
     "evalue": "No module named 'langgraph'",
     "output_type": "error",
     "traceback": [
      "\u001b[31m---------------------------------------------------------------------------\u001b[39m",
      "\u001b[31mModuleNotFoundError\u001b[39m                       Traceback (most recent call last)",
      "\u001b[36mCell\u001b[39m\u001b[36m \u001b[39m\u001b[32mIn[5]\u001b[39m\u001b[32m, line 2\u001b[39m\n\u001b[32m      1\u001b[39m \u001b[38;5;28;01mfrom\u001b[39;00m\u001b[38;5;250m \u001b[39m\u001b[34;01mtyping\u001b[39;00m\u001b[38;5;250m \u001b[39m\u001b[38;5;28;01mimport\u001b[39;00m TypedDict\n\u001b[32m----> \u001b[39m\u001b[32m2\u001b[39m \u001b[38;5;28;01mfrom\u001b[39;00m\u001b[38;5;250m \u001b[39m\u001b[34;01mlanggraph\u001b[39;00m\u001b[34;01m.\u001b[39;00m\u001b[34;01mgraph\u001b[39;00m\u001b[38;5;250m \u001b[39m\u001b[38;5;28;01mimport\u001b[39;00m StateGraph, START, END\n",
      "\u001b[31mModuleNotFoundError\u001b[39m: No module named 'langgraph'"
     ]
    }
   ],
   "source": [
    "from typing import TypedDict\n",
    "from langgraph.graph import StateGraph, START, END\n"
   ]
  },
  {
   "cell_type": "code",
   "execution_count": null,
   "id": "12f753ae",
   "metadata": {},
   "outputs": [],
   "source": [
    "# state schema\n",
    "class AgentState(TypedDict):\n",
    "    number1:int\n",
    "    number2:int\n",
    "    operation:str\n",
    "    answer:int"
   ]
  },
  {
   "cell_type": "code",
   "execution_count": null,
   "id": "9ad13e71",
   "metadata": {},
   "outputs": [],
   "source": [
    "\n",
    "def adder(state:AgentState) -> AgentState:\n",
    "    \"\"\"Ä simple node do  a simple operation\"\"\"\n",
    "    state['answer']= state['number1'] + state['number2']\n",
    "    return state\n",
    "\n",
    "def subtractor(state:AgentState) -> AgentState:\n",
    "    \"\"\"Ä simple node do  a simple operation\"\"\"\n",
    "    state['answer']= state['number1'] - state['number2']\n",
    "    return state\n",
    "\n",
    "# for router\n",
    "def decide_next_node(state:AgentState)-> AgentState:\n",
    "    \"\"\"This node desides the next node\"\"\"\n",
    "    \n",
    "    if state['operation']==\"+\":\n",
    "        return \"addition operation\"\n",
    "    elif state['operation']==\"-\":\n",
    "        return \"subtraction operation\""
   ]
  },
  {
   "cell_type": "code",
   "execution_count": null,
   "id": "9a66c2e3",
   "metadata": {},
   "outputs": [],
   "source": [
    "graph = StateGraph(AgentState)\n",
    "\n",
    "graph.add_node(\"adder\", adder)\n",
    "graph.add_node(\"subtractor\", subtractor)\n",
    "graph.add_node(\"router\", lambda state:state) # input state will be the output state\n",
    "# state is not changing in the decide_next_node() function\n",
    "# thats why we use a pass through function -> lambda state:state\n",
    "\n",
    "graph.add_edge(START, \"router\")\n",
    "\n",
    "graph.add_conditional_edge(\n",
    "    \"router\", decide_next_node,   # starting node details\n",
    "    {\n",
    "        # Edge name : Node\n",
    "        \"addition Opereration\":\"adder\",\n",
    "        \"subtraction operation\": \"subtractor\"\n",
    "    } \n",
    ")\n",
    "\n",
    "graph.add_edge(\"adder\", END)\n",
    "graph.add_node(\"subtractor\", END)\n",
    "\n",
    "app = graph.compile() "
   ]
  },
  {
   "cell_type": "code",
   "execution_count": null,
   "id": "0db77e71",
   "metadata": {},
   "outputs": [],
   "source": [
    "result1 = AgentState(number1=10, number2=2,operation=\"+\")\n",
    "print(app.invoke(result1))"
   ]
  },
  {
   "cell_type": "code",
   "execution_count": null,
   "id": "22e0dcef",
   "metadata": {},
   "outputs": [],
   "source": [
    "# another way (previous way)\n",
    "\n",
    "result = app.invoke({\"number1\"==5, \"number2\"==3, \"operation\"==\"-\"})\n",
    "result['answer']"
   ]
  }
 ],
 "metadata": {
  "kernelspec": {
   "display_name": "Python 3",
   "language": "python",
   "name": "python3"
  },
  "language_info": {
   "codemirror_mode": {
    "name": "ipython",
    "version": 3
   },
   "file_extension": ".py",
   "mimetype": "text/x-python",
   "name": "python",
   "nbconvert_exporter": "python",
   "pygments_lexer": "ipython3",
   "version": "3.11.0"
  }
 },
 "nbformat": 4,
 "nbformat_minor": 5
}
