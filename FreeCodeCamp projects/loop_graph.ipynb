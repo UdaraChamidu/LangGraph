{
 "cells": [
  {
   "cell_type": "code",
   "execution_count": null,
   "id": "182d2139",
   "metadata": {},
   "outputs": [],
   "source": [
    "from typing import TypedDict, List, Dict\n",
    "from langgraph.graph import StateGraph, END\n",
    "import random"
   ]
  },
  {
   "cell_type": "code",
   "execution_count": 1,
   "id": "88777edf",
   "metadata": {},
   "outputs": [
    {
     "ename": "NameError",
     "evalue": "name 'TypedDict' is not defined",
     "output_type": "error",
     "traceback": [
      "\u001b[31m---------------------------------------------------------------------------\u001b[39m",
      "\u001b[31mNameError\u001b[39m                                 Traceback (most recent call last)",
      "\u001b[36mCell\u001b[39m\u001b[36m \u001b[39m\u001b[32mIn[1]\u001b[39m\u001b[32m, line 1\u001b[39m\n\u001b[32m----> \u001b[39m\u001b[32m1\u001b[39m \u001b[38;5;28;01mclass\u001b[39;00m\u001b[38;5;250m \u001b[39m\u001b[34;01mAgentState\u001b[39;00m(\u001b[43mTypedDict\u001b[49m):\n\u001b[32m      2\u001b[39m     name:\u001b[38;5;28mstr\u001b[39m\n\u001b[32m      3\u001b[39m     number:List[\u001b[38;5;28mint\u001b[39m]\n",
      "\u001b[31mNameError\u001b[39m: name 'TypedDict' is not defined"
     ]
    }
   ],
   "source": [
    "class AgentState(TypedDict):\n",
    "    name:str\n",
    "    number:List[int]\n",
    "    counter: int"
   ]
  },
  {
   "cell_type": "code",
   "execution_count": null,
   "id": "fd614aa9",
   "metadata": {},
   "outputs": [],
   "source": [
    "def greeting_node(state: AgentState) -> AgentState:\n",
    "    \"\"\"this node say hi to people\"\"\"\n",
    "    \n",
    "    state['name'] = f\"Hi there, {state['name']}\"\n",
    "    state['counter'] = 0\n",
    "    \n",
    "    return state\n",
    "    \n",
    "def random_node(state:AgentState) -> AgentState:\n",
    "    \"\"\"generate a random number between 0 to 10\"\"\"\n",
    "    \n",
    "    state['number'].append(random.randint(0, 10))\n",
    "    state['counter'] += 1\n",
    "    \n",
    "    return state\n",
    "    \n",
    "    \n",
    "def should_continue(state:AgentState) -> AgentState:\n",
    "    \"\"\"\"\"\"\n",
    "    if state['counter']<5:\n",
    "        print(\"entering loop\", state['counter'])\n",
    "        return \"loop\"\n",
    "    else:\n",
    "        return \"exit\"\n",
    "    "
   ]
  },
  {
   "cell_type": "code",
   "execution_count": null,
   "id": "1600f8f3",
   "metadata": {},
   "outputs": [],
   "source": [
    "graph = AgentGraph(AgentState)\n",
    "\n",
    "graph.add_node(\"greeting\", greeting_node )\n",
    "graph.add_node(\"random\", random_node )\n",
    "\n",
    "graph.add_conditional_edges(\n",
    "    \"random\",   # source code\n",
    "    should_continue,    # action\n",
    "    {\n",
    "        \"loop\": \"random\",\n",
    "        \"exit\": END   \n",
    "    }\n",
    ")\n",
    "\n",
    "app=graph.compile()"
   ]
  },
  {
   "cell_type": "code",
   "execution_count": 2,
   "id": "d192bc56",
   "metadata": {},
   "outputs": [
    {
     "ename": "NameError",
     "evalue": "name 'app' is not defined",
     "output_type": "error",
     "traceback": [
      "\u001b[31m---------------------------------------------------------------------------\u001b[39m",
      "\u001b[31mNameError\u001b[39m                                 Traceback (most recent call last)",
      "\u001b[36mCell\u001b[39m\u001b[36m \u001b[39m\u001b[32mIn[2]\u001b[39m\u001b[32m, line 2\u001b[39m\n\u001b[32m      1\u001b[39m \u001b[38;5;28;01mfrom\u001b[39;00m\u001b[38;5;250m \u001b[39m\u001b[34;01mIPython\u001b[39;00m\u001b[34;01m.\u001b[39;00m\u001b[34;01mdisplay\u001b[39;00m\u001b[38;5;250m \u001b[39m\u001b[38;5;28;01mimport\u001b[39;00m Image, display\n\u001b[32m----> \u001b[39m\u001b[32m2\u001b[39m display(Image(\u001b[43mapp\u001b[49m.get_graph().draw_mermaid_png()))\n",
      "\u001b[31mNameError\u001b[39m: name 'app' is not defined"
     ]
    }
   ],
   "source": [
    "from IPython.display import Image, display\n",
    "display(Image(app.get_graph().draw_mermaid_png()))"
   ]
  },
  {
   "cell_type": "code",
   "execution_count": null,
   "id": "12823a39",
   "metadata": {},
   "outputs": [],
   "source": [
    "app.invoke({\"name\":\"udara\", \"number\":[], \"counter\":-1})"
   ]
  }
 ],
 "metadata": {
  "kernelspec": {
   "display_name": "Python 3",
   "language": "python",
   "name": "python3"
  },
  "language_info": {
   "codemirror_mode": {
    "name": "ipython",
    "version": 3
   },
   "file_extension": ".py",
   "mimetype": "text/x-python",
   "name": "python",
   "nbconvert_exporter": "python",
   "pygments_lexer": "ipython3",
   "version": "3.11.0"
  }
 },
 "nbformat": 4,
 "nbformat_minor": 5
}
