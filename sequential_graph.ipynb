{
 "cells": [
  {
   "cell_type": "code",
   "execution_count": 1,
   "id": "a99effe2",
   "metadata": {},
   "outputs": [],
   "source": [
    "from typing import Dict, TypedDict\n",
    "from langgraph.graph import StateGraph "
   ]
  },
  {
   "cell_type": "code",
   "execution_count": 11,
   "id": "d8687710",
   "metadata": {},
   "outputs": [],
   "source": [
    "class AgentState(TypedDict):\n",
    "    name:str\n",
    "    age:str\n",
    "    final:str"
   ]
  },
  {
   "cell_type": "code",
   "execution_count": 12,
   "id": "293295d2",
   "metadata": {},
   "outputs": [],
   "source": [
    "def first_node(state:AgentState)->AgentState:\n",
    "    \"\"\"This is the first node of the graph\"\"\"\n",
    "    \n",
    "    state['final'] = f\"HI ! {state['name']} \"\n",
    "    return state"
   ]
  },
  {
   "cell_type": "code",
   "execution_count": 13,
   "id": "ef7ec420",
   "metadata": {},
   "outputs": [],
   "source": [
    "def second_node(state:AgentState)->AgentState:\n",
    "    \"\"\"This is the second node of the graph\"\"\"\n",
    "    \n",
    "    state['final'] = state['final'] + f\"Your age is {state['age']}\"\n",
    "    return state"
   ]
  },
  {
   "cell_type": "code",
   "execution_count": 14,
   "id": "06f722fe",
   "metadata": {},
   "outputs": [],
   "source": [
    "graph = StateGraph(AgentState)\n",
    "\n",
    "graph.add_node(\"first_node\", first_node)\n",
    "graph.add_node(\"second_node\", second_node)\n",
    "\n",
    "graph.set_entry_point(\"first_node\")\n",
    "graph.add_edge(\"first_node\", \"second_node\")\n",
    "\n",
    "graph.set_finish_point(\"second_node\")\n",
    "\n",
    "app = graph.compile()"
   ]
  },
  {
   "cell_type": "code",
   "execution_count": 15,
   "id": "95e4343d",
   "metadata": {},
   "outputs": [],
   "source": [
    "result = app.invoke({\"name\":\"udara\", \"age\":25})"
   ]
  },
  {
   "cell_type": "code",
   "execution_count": 18,
   "id": "ad505624",
   "metadata": {},
   "outputs": [
    {
     "data": {
      "text/plain": [
       "'HI ! udara Your age is 25'"
      ]
     },
     "execution_count": 18,
     "metadata": {},
     "output_type": "execute_result"
    }
   ],
   "source": [
    "result['final']"
   ]
  }
 ],
 "metadata": {
  "kernelspec": {
   "display_name": ".venv",
   "language": "python",
   "name": "python3"
  },
  "language_info": {
   "codemirror_mode": {
    "name": "ipython",
    "version": 3
   },
   "file_extension": ".py",
   "mimetype": "text/x-python",
   "name": "python",
   "nbconvert_exporter": "python",
   "pygments_lexer": "ipython3",
   "version": "3.11.0"
  }
 },
 "nbformat": 4,
 "nbformat_minor": 5
}
